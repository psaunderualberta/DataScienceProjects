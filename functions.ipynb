{
 "cells": [
  {
   "cell_type": "code",
   "execution_count": 1,
   "metadata": {},
   "outputs": [],
   "source": [
    "# Removes everything except mantissa from floating point numbers.\n",
    "# Can remove 'np.nan' if not desired\n",
    "\n",
    "from math import floor, ceil\n",
    "def returnMantissa(num):\n",
    "    # Returns the mantissa\n",
    "    if num > 0:\n",
    "        integer = floor(num)\n",
    "    elif num < 0:\n",
    "        integer = ceil(num)\n",
    "    else:\n",
    "        return np.nan\n",
    "    return num % integer"
   ]
  },
  {
   "cell_type": "code",
   "execution_count": 4,
   "metadata": {},
   "outputs": [],
   "source": [
    "def scatter(x, y, data, dim=None):\n",
    "    if dim:\n",
    "        plt.figure(figsize=(dim[0], dim[1]))\n",
    "    plt.scatterplot(x=x, y=y, data=data)"
   ]
  },
  {
   "cell_type": "code",
   "execution_count": null,
   "metadata": {},
   "outputs": [],
   "source": [
    "\n",
    "\n",
    "def percentOfTotal(grouping, col, clas):\n",
    "    total = houseX.groupby(grouping)[col].count()\n",
    "    recs = houseX[houseX[col] == clas].groupby(grouping)[col].count()\n",
    "    out = (recs / total) * 100\n",
    "    return out.sort_values(ascending=False)"
   ]
  }
 ],
 "metadata": {
  "kernelspec": {
   "display_name": "Python 3",
   "language": "python",
   "name": "python3"
  },
  "language_info": {
   "codemirror_mode": {
    "name": "ipython",
    "version": 3
   },
   "file_extension": ".py",
   "mimetype": "text/x-python",
   "name": "python",
   "nbconvert_exporter": "python",
   "pygments_lexer": "ipython3",
   "version": "3.7.4"
  }
 },
 "nbformat": 4,
 "nbformat_minor": 4
}
