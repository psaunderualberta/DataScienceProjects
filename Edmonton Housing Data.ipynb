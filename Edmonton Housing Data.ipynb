{
 "cells": [
  {
   "cell_type": "code",
   "execution_count": 1,
   "metadata": {},
   "outputs": [],
   "source": [
    "import numpy as np\n",
    "import pandas as pd\n",
    "import matplotlib.pyplot as plt\n",
    "import seaborn as sns\n",
    "%matplotlib inline\n",
    "sns.set_style('whitegrid')"
   ]
  },
  {
   "cell_type": "code",
   "execution_count": 2,
   "metadata": {},
   "outputs": [
    {
     "name": "stderr",
     "output_type": "stream",
     "text": [
      "C:\\Users\\HP\\Miniconda3\\lib\\site-packages\\IPython\\core\\interactiveshell.py:3058: DtypeWarning: Columns (1) have mixed types. Specify dtype option on import or set low_memory=False.\n",
      "  interactivity=interactivity, compiler=compiler, result=result)\n"
     ]
    }
   ],
   "source": [
    "housing = pd.read_csv('../../Data/Property_Assessment_Data__Current_Calendar_Year_.csv')"
   ]
  },
  {
   "cell_type": "code",
   "execution_count": 3,
   "metadata": {},
   "outputs": [
    {
     "data": {
      "text/html": [
       "<div>\n",
       "<style scoped>\n",
       "    .dataframe tbody tr th:only-of-type {\n",
       "        vertical-align: middle;\n",
       "    }\n",
       "\n",
       "    .dataframe tbody tr th {\n",
       "        vertical-align: top;\n",
       "    }\n",
       "\n",
       "    .dataframe thead th {\n",
       "        text-align: right;\n",
       "    }\n",
       "</style>\n",
       "<table border=\"1\" class=\"dataframe\">\n",
       "  <thead>\n",
       "    <tr style=\"text-align: right;\">\n",
       "      <th></th>\n",
       "      <th>Account Number</th>\n",
       "      <th>Suite</th>\n",
       "      <th>House Number</th>\n",
       "      <th>Street Name</th>\n",
       "      <th>Assessed Value</th>\n",
       "      <th>Assessment Class</th>\n",
       "      <th>Neighbourhood ID</th>\n",
       "      <th>Neighbourhood</th>\n",
       "      <th>Ward</th>\n",
       "      <th>Garage</th>\n",
       "      <th>Latitude</th>\n",
       "      <th>Longitude</th>\n",
       "    </tr>\n",
       "  </thead>\n",
       "  <tbody>\n",
       "    <tr>\n",
       "      <th>0</th>\n",
       "      <td>10202374</td>\n",
       "      <td>NaN</td>\n",
       "      <td>455.0</td>\n",
       "      <td>MCCONACHIE WAY NW</td>\n",
       "      <td>381500</td>\n",
       "      <td>Residential</td>\n",
       "      <td>2521.0</td>\n",
       "      <td>MCCONACHIE AREA</td>\n",
       "      <td>Ward 3</td>\n",
       "      <td>Y</td>\n",
       "      <td>53.630842</td>\n",
       "      <td>-113.428512</td>\n",
       "    </tr>\n",
       "    <tr>\n",
       "      <th>1</th>\n",
       "      <td>9969312</td>\n",
       "      <td>NaN</td>\n",
       "      <td>15519.0</td>\n",
       "      <td>103 STREET NW</td>\n",
       "      <td>463500</td>\n",
       "      <td>Residential</td>\n",
       "      <td>3040.0</td>\n",
       "      <td>BEAUMARIS</td>\n",
       "      <td>Ward 2</td>\n",
       "      <td>Y</td>\n",
       "      <td>53.616836</td>\n",
       "      <td>-113.500368</td>\n",
       "    </tr>\n",
       "    <tr>\n",
       "      <th>2</th>\n",
       "      <td>10030551</td>\n",
       "      <td>11</td>\n",
       "      <td>1780.0</td>\n",
       "      <td>GLASTONBURY BOULEVARD NW</td>\n",
       "      <td>271000</td>\n",
       "      <td>Residential</td>\n",
       "      <td>4720.0</td>\n",
       "      <td>GLASTONBURY</td>\n",
       "      <td>Ward 1</td>\n",
       "      <td>N</td>\n",
       "      <td>53.501531</td>\n",
       "      <td>-113.672511</td>\n",
       "    </tr>\n",
       "    <tr>\n",
       "      <th>3</th>\n",
       "      <td>1263045</td>\n",
       "      <td>306</td>\n",
       "      <td>14916.0</td>\n",
       "      <td>26 STREET NW</td>\n",
       "      <td>69500</td>\n",
       "      <td>Residential</td>\n",
       "      <td>2280.0</td>\n",
       "      <td>FRASER</td>\n",
       "      <td>Ward 4</td>\n",
       "      <td>N</td>\n",
       "      <td>53.611973</td>\n",
       "      <td>-113.379481</td>\n",
       "    </tr>\n",
       "    <tr>\n",
       "      <th>4</th>\n",
       "      <td>10176917</td>\n",
       "      <td>NaN</td>\n",
       "      <td>16923.0</td>\n",
       "      <td>71 STREET NW</td>\n",
       "      <td>553500</td>\n",
       "      <td>Residential</td>\n",
       "      <td>2700.0</td>\n",
       "      <td>SCHONSEE</td>\n",
       "      <td>Ward 3</td>\n",
       "      <td>Y</td>\n",
       "      <td>53.630884</td>\n",
       "      <td>-113.450859</td>\n",
       "    </tr>\n",
       "  </tbody>\n",
       "</table>\n",
       "</div>"
      ],
      "text/plain": [
       "   Account Number Suite  House Number               Street Name  \\\n",
       "0        10202374   NaN         455.0         MCCONACHIE WAY NW   \n",
       "1         9969312   NaN       15519.0             103 STREET NW   \n",
       "2        10030551    11        1780.0  GLASTONBURY BOULEVARD NW   \n",
       "3         1263045   306       14916.0              26 STREET NW   \n",
       "4        10176917   NaN       16923.0              71 STREET NW   \n",
       "\n",
       "   Assessed Value Assessment Class  Neighbourhood ID    Neighbourhood    Ward  \\\n",
       "0          381500      Residential            2521.0  MCCONACHIE AREA  Ward 3   \n",
       "1          463500      Residential            3040.0        BEAUMARIS  Ward 2   \n",
       "2          271000      Residential            4720.0      GLASTONBURY  Ward 1   \n",
       "3           69500      Residential            2280.0           FRASER  Ward 4   \n",
       "4          553500      Residential            2700.0         SCHONSEE  Ward 3   \n",
       "\n",
       "  Garage   Latitude   Longitude  \n",
       "0      Y  53.630842 -113.428512  \n",
       "1      Y  53.616836 -113.500368  \n",
       "2      N  53.501531 -113.672511  \n",
       "3      N  53.611973 -113.379481  \n",
       "4      Y  53.630884 -113.450859  "
      ]
     },
     "execution_count": 3,
     "metadata": {},
     "output_type": "execute_result"
    }
   ],
   "source": [
    "housing.head()"
   ]
  },
  {
   "cell_type": "code",
   "execution_count": 4,
   "metadata": {},
   "outputs": [
    {
     "name": "stdout",
     "output_type": "stream",
     "text": [
      "<class 'pandas.core.frame.DataFrame'>\n",
      "RangeIndex: 400916 entries, 0 to 400915\n",
      "Data columns (total 12 columns):\n",
      "Account Number      400916 non-null int64\n",
      "Suite               79397 non-null object\n",
      "House Number        358129 non-null float64\n",
      "Street Name         358129 non-null object\n",
      "Assessed Value      400916 non-null int64\n",
      "Assessment Class    400916 non-null object\n",
      "Neighbourhood ID    400915 non-null float64\n",
      "Neighbourhood       400915 non-null object\n",
      "Ward                400915 non-null object\n",
      "Garage              400916 non-null object\n",
      "Latitude            400916 non-null float64\n",
      "Longitude           400916 non-null float64\n",
      "dtypes: float64(4), int64(2), object(6)\n",
      "memory usage: 36.7+ MB\n"
     ]
    }
   ],
   "source": [
    "housing.info()"
   ]
  },
  {
   "cell_type": "code",
   "execution_count": 5,
   "metadata": {},
   "outputs": [
    {
     "data": {
      "text/html": [
       "<div>\n",
       "<style scoped>\n",
       "    .dataframe tbody tr th:only-of-type {\n",
       "        vertical-align: middle;\n",
       "    }\n",
       "\n",
       "    .dataframe tbody tr th {\n",
       "        vertical-align: top;\n",
       "    }\n",
       "\n",
       "    .dataframe thead th {\n",
       "        text-align: right;\n",
       "    }\n",
       "</style>\n",
       "<table border=\"1\" class=\"dataframe\">\n",
       "  <thead>\n",
       "    <tr style=\"text-align: right;\">\n",
       "      <th></th>\n",
       "      <th>Account Number</th>\n",
       "      <th>House Number</th>\n",
       "      <th>Assessed Value</th>\n",
       "      <th>Neighbourhood ID</th>\n",
       "      <th>Latitude</th>\n",
       "      <th>Longitude</th>\n",
       "    </tr>\n",
       "  </thead>\n",
       "  <tbody>\n",
       "    <tr>\n",
       "      <th>count</th>\n",
       "      <td>4.009160e+05</td>\n",
       "      <td>358129.000000</td>\n",
       "      <td>4.009160e+05</td>\n",
       "      <td>400915.000000</td>\n",
       "      <td>400916.000000</td>\n",
       "      <td>400916.000000</td>\n",
       "    </tr>\n",
       "    <tr>\n",
       "      <th>mean</th>\n",
       "      <td>7.644161e+06</td>\n",
       "      <td>7801.138076</td>\n",
       "      <td>4.656803e+05</td>\n",
       "      <td>4248.527728</td>\n",
       "      <td>53.520081</td>\n",
       "      <td>-113.511479</td>\n",
       "    </tr>\n",
       "    <tr>\n",
       "      <th>std</th>\n",
       "      <td>3.267638e+06</td>\n",
       "      <td>5379.167705</td>\n",
       "      <td>3.683814e+06</td>\n",
       "      <td>1765.560855</td>\n",
       "      <td>0.067231</td>\n",
       "      <td>0.081662</td>\n",
       "    </tr>\n",
       "    <tr>\n",
       "      <th>min</th>\n",
       "      <td>1.001007e+06</td>\n",
       "      <td>1.000000</td>\n",
       "      <td>0.000000e+00</td>\n",
       "      <td>1010.000000</td>\n",
       "      <td>53.338595</td>\n",
       "      <td>-113.713318</td>\n",
       "    </tr>\n",
       "    <tr>\n",
       "      <th>25%</th>\n",
       "      <td>4.243998e+06</td>\n",
       "      <td>2729.000000</td>\n",
       "      <td>1.770000e+05</td>\n",
       "      <td>2600.000000</td>\n",
       "      <td>53.461483</td>\n",
       "      <td>-113.566806</td>\n",
       "    </tr>\n",
       "    <tr>\n",
       "      <th>50%</th>\n",
       "      <td>9.940570e+06</td>\n",
       "      <td>8307.000000</td>\n",
       "      <td>3.235000e+05</td>\n",
       "      <td>4500.000000</td>\n",
       "      <td>53.521727</td>\n",
       "      <td>-113.509553</td>\n",
       "    </tr>\n",
       "    <tr>\n",
       "      <th>75%</th>\n",
       "      <td>1.013153e+07</td>\n",
       "      <td>11450.000000</td>\n",
       "      <td>4.260000e+05</td>\n",
       "      <td>5576.000000</td>\n",
       "      <td>53.573809</td>\n",
       "      <td>-113.448291</td>\n",
       "    </tr>\n",
       "    <tr>\n",
       "      <th>max</th>\n",
       "      <td>1.094012e+07</td>\n",
       "      <td>51175.000000</td>\n",
       "      <td>1.338810e+09</td>\n",
       "      <td>8888.000000</td>\n",
       "      <td>53.715149</td>\n",
       "      <td>-113.278435</td>\n",
       "    </tr>\n",
       "  </tbody>\n",
       "</table>\n",
       "</div>"
      ],
      "text/plain": [
       "       Account Number   House Number  Assessed Value  Neighbourhood ID  \\\n",
       "count    4.009160e+05  358129.000000    4.009160e+05     400915.000000   \n",
       "mean     7.644161e+06    7801.138076    4.656803e+05       4248.527728   \n",
       "std      3.267638e+06    5379.167705    3.683814e+06       1765.560855   \n",
       "min      1.001007e+06       1.000000    0.000000e+00       1010.000000   \n",
       "25%      4.243998e+06    2729.000000    1.770000e+05       2600.000000   \n",
       "50%      9.940570e+06    8307.000000    3.235000e+05       4500.000000   \n",
       "75%      1.013153e+07   11450.000000    4.260000e+05       5576.000000   \n",
       "max      1.094012e+07   51175.000000    1.338810e+09       8888.000000   \n",
       "\n",
       "            Latitude      Longitude  \n",
       "count  400916.000000  400916.000000  \n",
       "mean       53.520081    -113.511479  \n",
       "std         0.067231       0.081662  \n",
       "min        53.338595    -113.713318  \n",
       "25%        53.461483    -113.566806  \n",
       "50%        53.521727    -113.509553  \n",
       "75%        53.573809    -113.448291  \n",
       "max        53.715149    -113.278435  "
      ]
     },
     "execution_count": 5,
     "metadata": {},
     "output_type": "execute_result"
    }
   ],
   "source": [
    "housing.describe()"
   ]
  },
  {
   "cell_type": "code",
   "execution_count": 6,
   "metadata": {},
   "outputs": [
    {
     "data": {
      "text/plain": [
       "<matplotlib.axes._subplots.AxesSubplot at 0x25c31108cc8>"
      ]
     },
     "execution_count": 6,
     "metadata": {},
     "output_type": "execute_result"
    },
    {
     "data": {
      "image/png": "[encoded data removed]",
      "text/plain": [
       "<Figure size 432x288 with 2 Axes>"
      ]
     },
     "metadata": {
      "needs_background": "light"
     },
     "output_type": "display_data"
    }
   ],
   "source": [
    "sns.heatmap(housing.corr())"
   ]
  },
  {
   "cell_type": "markdown",
   "metadata": {},
   "source": [
    "Notice that all of the columns used in this heat map are either unique to each and every house or are so common that no significant difference can be obtained. The latitude and longitude should be extremely good at predicting, but since all coords are in Edmonton the difference between them is insignificant"
   ]
  },
  {
   "cell_type": "code",
   "execution_count": 7,
   "metadata": {},
   "outputs": [],
   "source": [
    "houseX = housing.drop('Assessed Value', axis=1)"
   ]
  },
  {
   "cell_type": "code",
   "execution_count": 8,
   "metadata": {},
   "outputs": [],
   "source": [
    "houseY = housing['Assessed Value']"
   ]
  },
  {
   "cell_type": "code",
   "execution_count": 9,
   "metadata": {},
   "outputs": [
    {
     "data": {
      "text/html": [
       "<div>\n",
       "<style scoped>\n",
       "    .dataframe tbody tr th:only-of-type {\n",
       "        vertical-align: middle;\n",
       "    }\n",
       "\n",
       "    .dataframe tbody tr th {\n",
       "        vertical-align: top;\n",
       "    }\n",
       "\n",
       "    .dataframe thead th {\n",
       "        text-align: right;\n",
       "    }\n",
       "</style>\n",
       "<table border=\"1\" class=\"dataframe\">\n",
       "  <thead>\n",
       "    <tr style=\"text-align: right;\">\n",
       "      <th></th>\n",
       "      <th>Account Number</th>\n",
       "      <th>Suite</th>\n",
       "      <th>House Number</th>\n",
       "      <th>Street Name</th>\n",
       "      <th>Assessment Class</th>\n",
       "      <th>Neighbourhood ID</th>\n",
       "      <th>Neighbourhood</th>\n",
       "      <th>Ward</th>\n",
       "      <th>Garage</th>\n",
       "      <th>Latitude</th>\n",
       "      <th>Longitude</th>\n",
       "    </tr>\n",
       "  </thead>\n",
       "  <tbody>\n",
       "    <tr>\n",
       "      <th>0</th>\n",
       "      <td>10202374</td>\n",
       "      <td>NaN</td>\n",
       "      <td>455.0</td>\n",
       "      <td>MCCONACHIE WAY NW</td>\n",
       "      <td>Residential</td>\n",
       "      <td>2521.0</td>\n",
       "      <td>MCCONACHIE AREA</td>\n",
       "      <td>Ward 3</td>\n",
       "      <td>Y</td>\n",
       "      <td>53.630842</td>\n",
       "      <td>-113.428512</td>\n",
       "    </tr>\n",
       "    <tr>\n",
       "      <th>1</th>\n",
       "      <td>9969312</td>\n",
       "      <td>NaN</td>\n",
       "      <td>15519.0</td>\n",
       "      <td>103 STREET NW</td>\n",
       "      <td>Residential</td>\n",
       "      <td>3040.0</td>\n",
       "      <td>BEAUMARIS</td>\n",
       "      <td>Ward 2</td>\n",
       "      <td>Y</td>\n",
       "      <td>53.616836</td>\n",
       "      <td>-113.500368</td>\n",
       "    </tr>\n",
       "    <tr>\n",
       "      <th>2</th>\n",
       "      <td>10030551</td>\n",
       "      <td>11</td>\n",
       "      <td>1780.0</td>\n",
       "      <td>GLASTONBURY BOULEVARD NW</td>\n",
       "      <td>Residential</td>\n",
       "      <td>4720.0</td>\n",
       "      <td>GLASTONBURY</td>\n",
       "      <td>Ward 1</td>\n",
       "      <td>N</td>\n",
       "      <td>53.501531</td>\n",
       "      <td>-113.672511</td>\n",
       "    </tr>\n",
       "    <tr>\n",
       "      <th>3</th>\n",
       "      <td>1263045</td>\n",
       "      <td>306</td>\n",
       "      <td>14916.0</td>\n",
       "      <td>26 STREET NW</td>\n",
       "      <td>Residential</td>\n",
       "      <td>2280.0</td>\n",
       "      <td>FRASER</td>\n",
       "      <td>Ward 4</td>\n",
       "      <td>N</td>\n",
       "      <td>53.611973</td>\n",
       "      <td>-113.379481</td>\n",
       "    </tr>\n",
       "    <tr>\n",
       "      <th>4</th>\n",
       "      <td>10176917</td>\n",
       "      <td>NaN</td>\n",
       "      <td>16923.0</td>\n",
       "      <td>71 STREET NW</td>\n",
       "      <td>Residential</td>\n",
       "      <td>2700.0</td>\n",
       "      <td>SCHONSEE</td>\n",
       "      <td>Ward 3</td>\n",
       "      <td>Y</td>\n",
       "      <td>53.630884</td>\n",
       "      <td>-113.450859</td>\n",
       "    </tr>\n",
       "  </tbody>\n",
       "</table>\n",
       "</div>"
      ],
      "text/plain": [
       "   Account Number Suite  House Number               Street Name  \\\n",
       "0        10202374   NaN         455.0         MCCONACHIE WAY NW   \n",
       "1         9969312   NaN       15519.0             103 STREET NW   \n",
       "2        10030551    11        1780.0  GLASTONBURY BOULEVARD NW   \n",
       "3         1263045   306       14916.0              26 STREET NW   \n",
       "4        10176917   NaN       16923.0              71 STREET NW   \n",
       "\n",
       "  Assessment Class  Neighbourhood ID    Neighbourhood    Ward Garage  \\\n",
       "0      Residential            2521.0  MCCONACHIE AREA  Ward 3      Y   \n",
       "1      Residential            3040.0        BEAUMARIS  Ward 2      Y   \n",
       "2      Residential            4720.0      GLASTONBURY  Ward 1      N   \n",
       "3      Residential            2280.0           FRASER  Ward 4      N   \n",
       "4      Residential            2700.0         SCHONSEE  Ward 3      Y   \n",
       "\n",
       "    Latitude   Longitude  \n",
       "0  53.630842 -113.428512  \n",
       "1  53.616836 -113.500368  \n",
       "2  53.501531 -113.672511  \n",
       "3  53.611973 -113.379481  \n",
       "4  53.630884 -113.450859  "
      ]
     },
     "execution_count": 9,
     "metadata": {},
     "output_type": "execute_result"
    }
   ],
   "source": [
    "houseX.head()"
   ]
  },
  {
   "cell_type": "code",
   "execution_count": 10,
   "metadata": {},
   "outputs": [
    {
     "data": {
      "text/plain": [
       "Account Number      400916\n",
       "Suite                 2245\n",
       "House Number         18443\n",
       "Street Name           2845\n",
       "Assessment Class         4\n",
       "Neighbourhood ID       398\n",
       "Neighbourhood          398\n",
       "Ward                    12\n",
       "Garage                   2\n",
       "Latitude            255907\n",
       "Longitude           237600\n",
       "dtype: int64"
      ]
     },
     "execution_count": 10,
     "metadata": {},
     "output_type": "execute_result"
    }
   ],
   "source": [
    "houseX.nunique()"
   ]
  },
  {
   "cell_type": "markdown",
   "metadata": {},
   "source": [
    "Let's quickly take a look at the percentages of null values for each column"
   ]
  },
  {
   "cell_type": "code",
   "execution_count": 11,
   "metadata": {},
   "outputs": [
    {
     "data": {
      "text/plain": [
       "Account Number      0.000000\n",
       "Suite               0.801961\n",
       "House Number        0.106723\n",
       "Street Name         0.106723\n",
       "Assessment Class    0.000000\n",
       "Neighbourhood ID    0.000002\n",
       "Neighbourhood       0.000002\n",
       "Ward                0.000002\n",
       "Garage              0.000000\n",
       "Latitude            0.000000\n",
       "Longitude           0.000000\n",
       "dtype: float64"
      ]
     },
     "execution_count": 11,
     "metadata": {},
     "output_type": "execute_result"
    }
   ],
   "source": [
    "houseX.isna().sum()/len(houseX)"
   ]
  },
  {
   "cell_type": "markdown",
   "metadata": {},
   "source": [
    "Since there is a unique account number for every row, we will drop that part as well."
   ]
  },
  {
   "cell_type": "code",
   "execution_count": 12,
   "metadata": {},
   "outputs": [],
   "source": [
    "houseX.drop('Account Number', axis=1, inplace=True)"
   ]
  },
  {
   "cell_type": "markdown",
   "metadata": {},
   "source": [
    "Suite has a null rate of 80%! Chances are that null values are just houses or stand-alone units, so it is possible that field could have value to it. We will see if we can find a value that does not exist in the 'Suite' column, and initialize all null values to that."
   ]
  },
  {
   "cell_type": "code",
   "execution_count": 13,
   "metadata": {},
   "outputs": [
    {
     "data": {
      "text/plain": [
       "0"
      ]
     },
     "execution_count": 13,
     "metadata": {},
     "output_type": "execute_result"
    }
   ],
   "source": [
    "len(houseX[houseX['Suite'] == 000])"
   ]
  },
  {
   "cell_type": "code",
   "execution_count": 14,
   "metadata": {},
   "outputs": [
    {
     "name": "stderr",
     "output_type": "stream",
     "text": [
      "C:\\Users\\HP\\Miniconda3\\lib\\site-packages\\ipykernel_launcher.py:1: SettingWithCopyWarning: \n",
      "A value is trying to be set on a copy of a slice from a DataFrame.\n",
      "Try using .loc[row_indexer,col_indexer] = value instead\n",
      "\n",
      "See the caveats in the documentation: http://pandas.pydata.org/pandas-docs/stable/user_guide/indexing.html#returning-a-view-versus-a-copy\n",
      "  \"\"\"Entry point for launching an IPython kernel.\n"
     ]
    }
   ],
   "source": [
    "houseX[houseX['Suite'].isna()]['Suite'] = 000"
   ]
  },
  {
   "cell_type": "code",
   "execution_count": 15,
   "metadata": {},
   "outputs": [
    {
     "data": {
      "text/plain": [
       "201     1031\n",
       "202      989\n",
       "101      968\n",
       "203      965\n",
       "301      952\n",
       "        ... \n",
       "918        1\n",
       "77P        1\n",
       "212P       1\n",
       "915        1\n",
       "129P       1\n",
       "Name: Suite, Length: 2245, dtype: int64"
      ]
     },
     "execution_count": 15,
     "metadata": {},
     "output_type": "execute_result"
    }
   ],
   "source": [
    "houseX['Suite'].value_counts()"
   ]
  },
  {
   "cell_type": "markdown",
   "metadata": {},
   "source": [
    "Let's take a look at those house #s and street names, as their percentages are exactly the same."
   ]
  },
  {
   "cell_type": "code",
   "execution_count": 16,
   "metadata": {},
   "outputs": [
    {
     "data": {
      "text/plain": [
       "0"
      ]
     },
     "execution_count": 16,
     "metadata": {},
     "output_type": "execute_result"
    }
   ],
   "source": [
    "np.logical_xor(houseX['House Number'].isna(), houseX['Street Name'].isna()).sum()"
   ]
  },
  {
   "cell_type": "code",
   "execution_count": 17,
   "metadata": {},
   "outputs": [
    {
     "data": {
      "text/plain": [
       "42787"
      ]
     },
     "execution_count": 17,
     "metadata": {},
     "output_type": "execute_result"
    }
   ],
   "source": [
    "np.logical_and(houseX['House Number'].isna(), houseX['Street Name'].isna()).sum()"
   ]
  },
  {
   "cell_type": "code",
   "execution_count": 18,
   "metadata": {},
   "outputs": [
    {
     "data": {
      "text/plain": [
       "42787"
      ]
     },
     "execution_count": 18,
     "metadata": {},
     "output_type": "execute_result"
    }
   ],
   "source": [
    "houseX['House Number'].isna().sum()"
   ]
  },
  {
   "cell_type": "code",
   "execution_count": 19,
   "metadata": {},
   "outputs": [
    {
     "data": {
      "text/plain": [
       "0.10672310409163016"
      ]
     },
     "execution_count": 19,
     "metadata": {},
     "output_type": "execute_result"
    }
   ],
   "source": [
    "42787 / len(houseX)"
   ]
  },
  {
   "cell_type": "markdown",
   "metadata": {},
   "source": [
    "So every element with a missing house # has a missing street #, and vice versa. Are any of their assessment classes?"
   ]
  },
  {
   "cell_type": "code",
   "execution_count": 20,
   "metadata": {},
   "outputs": [
    {
     "data": {
      "text/plain": [
       "40605"
      ]
     },
     "execution_count": 20,
     "metadata": {},
     "output_type": "execute_result"
    }
   ],
   "source": [
    "np.logical_and(houseX['Assessment Class'] == 'Residential', houseX['Street Name'].isna()).sum()"
   ]
  },
  {
   "cell_type": "code",
   "execution_count": 21,
   "metadata": {},
   "outputs": [
    {
     "data": {
      "text/plain": [
       "<matplotlib.axes._subplots.AxesSubplot at 0x25c314be5c8>"
      ]
     },
     "execution_count": 21,
     "metadata": {},
     "output_type": "execute_result"
    },
    {
     "data": {
      "image/png": "[encoded data removed]",
      "text/plain": [
       "<Figure size 864x864 with 1 Axes>"
      ]
     },
     "metadata": {
      "needs_background": "light"
     },
     "output_type": "display_data"
    }
   ],
   "source": [
    "plt.figure(figsize=(12, 12))\n",
    "sns.scatterplot(x='Longitude', y='Latitude', hue='Assessment Class', data=houseX[(houseX['Street Name'].isna())])"
   ]
  },
  {
   "cell_type": "code",
   "execution_count": null,
   "metadata": {},
   "outputs": [],
   "source": [
    "plt.figure(figsize=(12, 12))\n",
    "sns.scatterplot(x='Longitude', y='Latitude', data=houseX)"
   ]
  },
  {
   "cell_type": "code",
   "execution_count": null,
   "metadata": {},
   "outputs": [],
   "source": [
    "houseX.columns"
   ]
  },
  {
   "cell_type": "code",
   "execution_count": null,
   "metadata": {},
   "outputs": [],
   "source": [
    "houseX.nunique()"
   ]
  },
  {
   "cell_type": "markdown",
   "metadata": {},
   "source": [
    "Now, we will categorize the data based on a few different attributes: Assessment Class, Ward, Garage."
   ]
  },
  {
   "cell_type": "code",
   "execution_count": null,
   "metadata": {},
   "outputs": [],
   "source": [
    "for hue in ['Assessment Class', 'Ward', 'Garage']:\n",
    "    plt.figure(figsize=(8, 8))\n",
    "    sns.scatterplot(x='Longitude', y='Latitude', hue=hue, data=houseX)\n",
    "    plt.title('Longitude vs. Latitude: Hue = ' + hue)\n",
    "    plt.xlabel('Longitude')\n",
    "    plt.ylabel('Latitude')"
   ]
  },
  {
   "cell_type": "markdown",
   "metadata": {},
   "source": [
    "### Wait, what is that in the middle of Terwillegar Park?"
   ]
  },
  {
   "cell_type": "code",
   "execution_count": null,
   "metadata": {},
   "outputs": [],
   "source": [
    "plt.figure(figsize=(12, 12))\n",
    "sns.scatterplot(x='Longitude', y='Latitude', \n",
    "                data=houseX[((-113.59 > houseX['Longitude']) & (houseX['Longitude'] > -113.64)) & ((53.50 > houseX['Latitude']) & (houseX['Latitude'] > 53.46))])"
   ]
  },
  {
   "cell_type": "markdown",
   "metadata": {},
   "source": [
    "Seems to be some sort of house..."
   ]
  },
  {
   "cell_type": "code",
   "execution_count": null,
   "metadata": {},
   "outputs": [],
   "source": [
    "plt.figure(figsize=(12, 12))\n",
    "sns.scatterplot(x='Longitude', y='Latitude', hue='Garage',\n",
    "                data=houseX[((-113.59 > houseX['Longitude']) & (houseX['Longitude'] > -113.64)) & ((53.50 > houseX['Latitude']) & (houseX['Latitude'] > 53.46))])"
   ]
  },
  {
   "cell_type": "markdown",
   "metadata": {},
   "source": [
    "It doesn't have a garage though."
   ]
  },
  {
   "cell_type": "markdown",
   "metadata": {},
   "source": [
    "If anyone isn't from Edmonton, this is what Terwillegar Park looks like:"
   ]
  },
  {
   "cell_type": "markdown",
   "metadata": {},
   "source": [
    "![Image of Terwillegar Park](https://i.pinimg.com/736x/de/5f/d5/de5fd5ddbf576912a1fba6249f7d30ec.jpg)"
   ]
  },
  {
   "cell_type": "markdown",
   "metadata": {},
   "source": [
    "I've been here plenty of times, and I've never seen a house or any type of building in this park."
   ]
  },
  {
   "cell_type": "markdown",
   "metadata": {},
   "source": [
    "Let's take a look at that piece of data specifically."
   ]
  },
  {
   "cell_type": "code",
   "execution_count": null,
   "metadata": {},
   "outputs": [],
   "source": [
    "houseX[((-113.61 > houseX['Longitude']) & (houseX['Longitude'] > -113.625)) & ((53.485 > houseX['Latitude']) & (houseX['Latitude'] > 53.48))]"
   ]
  },
  {
   "cell_type": "markdown",
   "metadata": {},
   "source": [
    "Looking the house up on google maps..."
   ]
  },
  {
   "cell_type": "code",
   "execution_count": null,
   "metadata": {},
   "outputs": [],
   "source": [
    "from IPython.display import Image\n",
    "Image(filename='../../../Images/TerwillegarParkGoogleMaps.jpg') "
   ]
  },
  {
   "cell_type": "markdown",
   "metadata": {},
   "source": [
    "It seems to be the park itself. On further inspection, it makes sense, as the dataset is for 'properties', not 'houses'"
   ]
  },
  {
   "cell_type": "markdown",
   "metadata": {},
   "source": [
    "For the sake of interest, what is the value of Terwillegar Park?"
   ]
  },
  {
   "cell_type": "code",
   "execution_count": null,
   "metadata": {},
   "outputs": [],
   "source": [
    "housing[((-113.61 > housing['Longitude']) & (housing['Longitude'] > -113.625)) & ((53.485 > housing['Latitude']) & (housing['Latitude'] > 53.48))]"
   ]
  },
  {
   "cell_type": "markdown",
   "metadata": {},
   "source": [
    "If anyone has a spare 4 million lying around, you could purchase Terwillegar Park!"
   ]
  },
  {
   "cell_type": "markdown",
   "metadata": {},
   "source": [
    "## Data Augmentation\n",
    "### Game Plan\n",
    "There's not a whole lot of unique information about the houses themselves in the data, so let's see what we can create!"
   ]
  },
  {
   "cell_type": "code",
   "execution_count": null,
   "metadata": {},
   "outputs": [],
   "source": [
    "houseX.columns"
   ]
  },
  {
   "cell_type": "markdown",
   "metadata": {},
   "source": [
    "We would think that Latitude and Longitude would directly imply Ward, but let's see if this is really true."
   ]
  },
  {
   "cell_type": "code",
   "execution_count": null,
   "metadata": {},
   "outputs": [],
   "source": [
    "from sklearn.model_selection import train_test_split\n",
    "\n",
    "X_train, X_test, y_train, y_test = train_test_split(houseX[['Latitude', 'Longitude']], houseX['Ward'], test_size=0.33, random_state=420)"
   ]
  },
  {
   "cell_type": "code",
   "execution_count": null,
   "metadata": {},
   "outputs": [],
   "source": [
    "houseX[houseX['Ward'].isnull()]"
   ]
  },
  {
   "cell_type": "code",
   "execution_count": null,
   "metadata": {},
   "outputs": [],
   "source": [
    "from sklearn.linear_model import LinearRegression\n",
    "lin = LinearRegression()\n",
    "\n",
    "lin.fit(X_train, y_train)"
   ]
  },
  {
   "cell_type": "code",
   "execution_count": null,
   "metadata": {},
   "outputs": [],
   "source": [
    "predictions = lin.predict(X_test)"
   ]
  },
  {
   "cell_type": "code",
   "execution_count": null,
   "metadata": {},
   "outputs": [],
   "source": [
    "from sklearn.metrics import roc_curve, precision_recall_curve"
   ]
  },
  {
   "cell_type": "code",
   "execution_count": null,
   "metadata": {},
   "outputs": [],
   "source": []
  }
 ],
 "metadata": {
  "kernelspec": {
   "display_name": "Python 3",
   "language": "python",
   "name": "python3"
  },
  "language_info": {
   "codemirror_mode": {
    "name": "ipython",
    "version": 3
   },
   "file_extension": ".py",
   "mimetype": "text/x-python",
   "name": "python",
   "nbconvert_exporter": "python",
   "pygments_lexer": "ipython3",
   "version": "3.7.4"
  }
 },
 "nbformat": 4,
 "nbformat_minor": 4
}
